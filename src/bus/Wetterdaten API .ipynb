{
 "cells": [
  {
   "cell_type": "markdown",
   "metadata": {},
   "source": [
    "# Daten\n",
    "1. Regen - Ja, Nein\n",
    "2. Niederschlagsmenge\n",
    "3. Klarer himmel - Ja, Nein\n",
    "4. Temperatur\n",
    "5. Windgeschwindigkeit\n",
    "\n",
    "API call - https://api.darksky.net/forecast/[key]/[latitude],[longitude],[time]"
   ]
  },
  {
   "cell_type": "code",
   "execution_count": 178,
   "metadata": {
    "collapsed": true
   },
   "outputs": [],
   "source": [
    "import datetime\n",
    "import requests\n",
    "import pandas as pd\n",
    "import os"
   ]
  },
  {
   "cell_type": "code",
   "execution_count": 3,
   "metadata": {
    "collapsed": true
   },
   "outputs": [],
   "source": [
    "def date_range_gen(start, end, delta):\n",
    "    \"\"\"\n",
    "        input:\n",
    "\n",
    "        start: date obj\n",
    "        end: date obj\n",
    "        delta: int\n",
    "    \"\"\"\n",
    "    \n",
    "    dates = []\n",
    "    while start <= end:\n",
    "        dates.append(start)\n",
    "        start = start + datetime.timedelta(days=delta)\n",
    "    return dates"
   ]
  },
  {
   "cell_type": "code",
   "execution_count": 182,
   "metadata": {
    "collapsed": true
   },
   "outputs": [],
   "source": [
    "def api_string_gen(api_key, latitude, longtitude,\n",
    "                   date_start, date_end, date_delta, \n",
    "                   time_start, time_end, time_delta, gmt):\n",
    "    \"\"\"\n",
    "    input:\n",
    "        api_key: str\n",
    "        latitude: str\n",
    "        longtitude: string\n",
    "        date_start: date obj\n",
    "        date_end: date obj\n",
    "        time_start: int (in hours)\n",
    "        time_end: int (in hours)\n",
    "        time_delta: int (in hours)\n",
    "        gmt: string in format hh:mm\n",
    "    returns:\n",
    "        api_url: str\n",
    "        date: str\n",
    "        time: str\n",
    "    \"\"\"\n",
    "    url = r'https://api.darksky.net/forecast/'\n",
    "    \n",
    "    date_range = date_range_gen(date_start, date_end, date_delta)\n",
    "    time_range = range(time_start, time_end)\n",
    "    \n",
    "    for date in date_range:\n",
    "        for time in time_range:\n",
    "            yield url + api_key + \\\n",
    "            r'/' + latitude + ',' + longtitude + ',' + str(date) + \"T\" + '%02d'%time + \":00:00+\" + gmt + \\\n",
    "            '?units=auto', str(date), '%02d'%time"
   ]
  },
  {
   "cell_type": "code",
   "execution_count": 179,
   "metadata": {
    "collapsed": false
   },
   "outputs": [],
   "source": [
    "def download_data(filepath, api_keys,       \n",
    "                  latitude, longtitude,\n",
    "                  date_start, date_end, date_delta, \n",
    "                  time_start, time_end, time_delta, gmt):\n",
    "    \"\"\"\n",
    "        The method goes through all api keys. If the calls are exceeded, the next API key is taken. If there are no more\n",
    "        API Keys left, the data is saved. The format is from_date_time-to_date_time.csv\n",
    "    \"\"\"\n",
    "    api_key = api_keys.pop()\n",
    "    \n",
    "    # Generate API strings\n",
    "    strings_gen = api_string_gen(api_key, latitude, longtitude,\n",
    "                                 date_start, date_end, date_delta, \n",
    "                                 time_start, time_end, time_delta, gmt)\n",
    "    s = strings_gen.next()\n",
    "    date_start, time_start = s[1], s[2]\n",
    "    \n",
    "    try:\n",
    "        # Call the API \n",
    "        r = requests.get(s[0])\n",
    "        \n",
    "        # Create the DataFrame\n",
    "        df_complete = pd.DataFrame(r.json())['currently'].to_frame()\n",
    "        df_complete['data'] = df_complete.index\n",
    "        df_complete['date'] = str(s[1]) + 'T' + s[2] + ':00:00'\n",
    "        df_complete = df_complete.pivot(columns = 'data', values='currently', index='date')\n",
    "        \n",
    "    except ValueError:\n",
    "        print \"The API calls for %s are exceeded. Taking the next API. There are %s API keys left\" % (api_key, len(api_keys))\n",
    "        try:\n",
    "            api_key = api_keys.pop()\n",
    "        except IndexError:\n",
    "            print \"There are no more API keys\"\n",
    "            return\n",
    "    \n",
    "    # Append to the DataFrame\n",
    "    for s in strings_gen:\n",
    "        try:\n",
    "            # Call the API \n",
    "            r = requests.get(s[0])\n",
    "            \n",
    "            # Create, transform and append the DataFrame\n",
    "            df = pd.DataFrame(r.json())['currently'].to_frame()\n",
    "            df['data'] = df.index\n",
    "            df['date'] = str(s[1]) + 'T' + s[2] + ':00:00'\n",
    "            df = df.pivot(columns = 'data', values='currently', index='date')\n",
    "            df_complete = df_complete.append(df)\n",
    "        except ValueError:\n",
    "            print \"The API calls for %s are exceeded. Taking the next API. There are %s API keys left\" % (api_key, len(api_keys))\n",
    "            try:\n",
    "                api_key = api_keys.pop()\n",
    "            except IndexError:\n",
    "                print \"There are no more API keys\"\n",
    "                date_end, time_end = s[1], s[2]\n",
    "                df_complete.to_csv(os.path.join(filepath, date_start + \"T\" + time_start + \"-\" +\n",
    "                                                date_end + 'T' + time_end + '.csv'))\n",
    "                return df_complete\n",
    "        \n",
    "    \n",
    "    date_end, time_end = s[1], s[2]\n",
    "    df_complete.to_csv(os.path.join(filepath, date_start + \"T\" + time_start + \"-\" +\n",
    "                                    date_end + 'T' + time_end + '.csv'))\n",
    "    return df_complete"
   ]
  },
  {
   "cell_type": "code",
   "execution_count": 188,
   "metadata": {
    "collapsed": true
   },
   "outputs": [],
   "source": [
    "# Parameters\n",
    "filepath = r\"C:\\Data\\wetter\"\n",
    "\n",
    "api_emails = ['13obo94@gmail.com', 'donchev.boris@gmail.com', 'martin.yankov@gmail.com']\n",
    "api_keys = ['012bd47ef29c78d41d802935d731d876', '5fa4d2ae76bc4035201e84ac60e06f8e', '797eba2745e8f69147ad6b4f8bacca29'] \n",
    "\n",
    "beginning = '2017-10-17'\n",
    "end = '2017-11-15'\n",
    "d_delta = 1\n",
    "hours_start = 0\n",
    "hours_end = 24\n",
    "h_delta = 1\n",
    "\n",
    "latitude = '51.960665'\n",
    "longtitude = '7.626135'\n",
    "\n",
    "date_beginning = datetime.datetime.strptime(beginning, '%Y-%m-%d').date()\n",
    "date_end = datetime.datetime.strptime(end, '%Y-%m-%d').date()"
   ]
  },
  {
   "cell_type": "markdown",
   "metadata": {},
   "source": [
    "___"
   ]
  },
  {
   "cell_type": "code",
   "execution_count": 189,
   "metadata": {
    "collapsed": false
   },
   "outputs": [
    {
     "name": "stdout",
     "output_type": "stream",
     "text": [
      "The API calls for 797eba2745e8f69147ad6b4f8bacca29 are exceeded. Taking the next API. There are 2 API keys left\n",
      "The API calls for 5fa4d2ae76bc4035201e84ac60e06f8e are exceeded. Taking the next API. There are 1 API keys left\n",
      "The API calls for 012bd47ef29c78d41d802935d731d876 are exceeded. Taking the next API. There are 0 API keys left\n",
      "There are no more API keys\n"
     ]
    }
   ],
   "source": [
    "df = download_data(filepath, api_keys,\n",
    "                   latitude, longtitude,\n",
    "                   date_beginning, date_end, d_delta,\n",
    "                   hours_start, hours_end, h_delta, '01:00')"
   ]
  }
 ],
 "metadata": {
  "anaconda-cloud": {},
  "kernelspec": {
   "display_name": "Python [default]",
   "language": "python",
   "name": "python2"
  },
  "language_info": {
   "codemirror_mode": {
    "name": "ipython",
    "version": 2
   },
   "file_extension": ".py",
   "mimetype": "text/x-python",
   "name": "python",
   "nbconvert_exporter": "python",
   "pygments_lexer": "ipython2",
   "version": "2.7.12"
  }
 },
 "nbformat": 4,
 "nbformat_minor": 1
}
